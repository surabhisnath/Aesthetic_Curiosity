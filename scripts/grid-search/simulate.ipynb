{
 "cells": [
  {
   "cell_type": "code",
   "execution_count": 1,
   "metadata": {},
   "outputs": [],
   "source": [
    "import numpy as np\n",
    "import seaborn as sns\n",
    "import matplotlib.pyplot as plt\n",
    "import pandas as pd\n",
    "from tqdm import tqdm\n",
    "tqdm.pandas()\n",
    "import sys\n",
    "sys.path.insert(1, \"../../measures/intricacy/\")\n",
    "from calculate_intricacy import *\n",
    "sys.path.insert(1, \"../../measures/local spatial complexity/\")\n",
    "from calculate_local_spatial_complexity import *\n",
    "import warnings\n",
    "warnings.filterwarnings(\"ignore\")\n",
    "np.random.seed(34)"
   ]
  },
  {
   "cell_type": "code",
   "execution_count": null,
   "metadata": {},
   "outputs": [],
   "source": [
    "def calculate_measures(grid):\n",
    "    LSC = calculate_local_spatial_complexity(grid, grid_size)\n",
    "    intricacy = calculate_intricacy(grid, grid_size)\n",
    "    return LSC, intricacy\n",
    "\n",
    "def simulate_underlying_random(grid):\n",
    "    measures = np.zeros((num_sims, 2))\n",
    "    gray_indices = grid == 2\n",
    "    for i in range(num_sims):\n",
    "        grid_ = grid.copy()\n",
    "        grid_[gray_indices] = np.random.choice([0, 1], size=np.sum(gray_indices))\n",
    "        measures[i, :] = calculate_measures(grid_)\n",
    "    meanLSC, meanInt = np.mean(measures, axis=0)\n",
    "    return meanLSC, meanInt\n",
    "\n",
    "def simulate_underlying_permutation(grid, pattern_id):\n",
    "    measures = np.zeros((num_patterns - 1, 2))\n",
    "    gray_indices = grid == 2\n",
    "    ind = 0\n",
    "    for i in range(num_patterns):\n",
    "        if i + 1 == pattern_id:\n",
    "            continue\n",
    "        grid_ = grid.copy()\n",
    "        replacement_pattern = np.array(list(map(int, pattern_stats[pattern_stats[\"pattern_id\"] == i + 1][\"stimuli\"].item()))).reshape(grid_size, grid_size)\n",
    "        grid_[gray_indices] = replacement_pattern[gray_indices]\n",
    "        measures[ind, :] = calculate_measures(grid_)\n",
    "        ind += 1\n",
    "    meanLSC, meanInt = np.mean(measures, axis=0)\n",
    "    return meanLSC, meanInt\n",
    "\n",
    "def simulate_visible_random(grid, LSC_nondetrended, Int_nondetrended):\n",
    "    measures = np.zeros((num_sims, 2))\n",
    "    non_gray_indices = grid != 2\n",
    "    for i in range(num_sims):\n",
    "        grid_ = grid.copy()\n",
    "        grid_[non_gray_indices] = np.random.choice(\n",
    "            [0, 1], size=np.sum(non_gray_indices)\n",
    "        )\n",
    "        measures[i, :] = calculate_measures(grid_)\n",
    "    meanLSC, meanInt = np.mean(measures, axis=0)\n",
    "    return LSC_nondetrended - meanLSC, Int_nondetrended - meanInt\n",
    "\n",
    "def simulate_visible_permutation(grid, LSC_nondetrended, Int_nondetrended, pattern_id):\n",
    "    measures = np.zeros((num_patterns - 1, 2))\n",
    "    non_gray_indices = grid != 2\n",
    "    ind = 0\n",
    "    for i in range(num_patterns):\n",
    "        if i + 1 == pattern_id:\n",
    "            continue\n",
    "        grid_ = grid.copy()\n",
    "        replacement_pattern = np.array(list(map(int, pattern_stats[pattern_stats[\"pattern_id\"] == i + 1][\"stimuli\"].item()))).reshape(grid_size, grid_size)\n",
    "        grid_[non_gray_indices] = replacement_pattern[non_gray_indices]\n",
    "        measures[ind, :] = calculate_measures(grid_)\n",
    "        ind += 1\n",
    "    meanLSC, meanInt = np.mean(measures, axis=0)\n",
    "    return LSC_nondetrended - meanLSC, Int_nondetrended - meanInt"
   ]
  },
  {
   "cell_type": "code",
   "execution_count": null,
   "metadata": {},
   "outputs": [],
   "source": [
    "pattern_stats = pd.read_csv(\"../../csvs/grid-search/pattern_stats.csv\")"
   ]
  },
  {
   "cell_type": "code",
   "execution_count": null,
   "metadata": {},
   "outputs": [],
   "source": [
    "grid_size = 27\n",
    "num_sims = 10\n",
    "num_patterns = 98\n",
    "\n",
    "grid_data = pd.read_csv(\"../../csvs/grid-search/grid_data_reevaluatedforreproduction.csv\")\n",
    "click_data = pd.read_csv(\"../../csvs/grid-search/click_data_reevaluatedforreproduction.csv\")"
   ]
  },
  {
   "cell_type": "code",
   "execution_count": null,
   "metadata": {},
   "outputs": [],
   "source": [
    "grid_data[[\"uLSCr\", \"uIntr\"]] = grid_data.progress_apply(\n",
    "    lambda row: pd.Series(\n",
    "        simulate_underlying_random(\n",
    "            np.array(list(map(int, row[\"final_grid\"]))).reshape(\n",
    "                grid_size, grid_size\n",
    "            )\n",
    "        )\n",
    "    ),\n",
    "    axis=1,\n",
    ")"
   ]
  },
  {
   "cell_type": "code",
   "execution_count": null,
   "metadata": {},
   "outputs": [],
   "source": [
    "grid_data[[\"uLSCp\", \"uIntp\"]] = grid_data.progress_apply(\n",
    "    lambda row: pd.Series(\n",
    "        simulate_underlying_permutation(\n",
    "            np.array(list(map(int, row[\"final_grid\"]))).reshape(\n",
    "                grid_size, grid_size\n",
    "            ), row[\"pattern_id\"]\n",
    "        )\n",
    "    ),\n",
    "    axis=1,\n",
    ")"
   ]
  },
  {
   "cell_type": "code",
   "execution_count": null,
   "metadata": {},
   "outputs": [],
   "source": [
    "grid_data[[\"fLSCr\", \"fIntr\"]] = grid_data.progress_apply(\n",
    "    lambda row: pd.Series(\n",
    "        simulate_visible_random(\n",
    "            np.array(list(map(int, row[\"final_grid\"]))).reshape(\n",
    "                grid_size, grid_size\n",
    "            ),\n",
    "            row[\"fLSC_nondetrended\"],\n",
    "            row[\"fInt_nondetrended\"],\n",
    "        )\n",
    "    ),\n",
    "    axis=1,\n",
    ")"
   ]
  },
  {
   "cell_type": "code",
   "execution_count": null,
   "metadata": {},
   "outputs": [],
   "source": [
    "grid_data[[\"fLSCp\", \"fIntp\"]] = grid_data.progress_apply(\n",
    "    lambda row: pd.Series(\n",
    "        simulate_visible_permutation(\n",
    "            np.array(list(map(int, row[\"final_grid\"]))).reshape(grid_size, grid_size),\n",
    "            row[\"fLSC_nondetrended\"],\n",
    "            row[\"fInt_nondetrended\"],\n",
    "            row[\"pattern_id\"]\n",
    "        )\n",
    "    ),\n",
    "    axis=1,\n",
    ")"
   ]
  },
  {
   "cell_type": "code",
   "execution_count": null,
   "metadata": {},
   "outputs": [],
   "source": [
    "grid_data[\"uLSCdiffr\"] = grid_data[\"uLSC\"] - grid_data[\"uLSCr\"]\n",
    "grid_data[\"uIntdiffr\"] = grid_data[\"uInt\"] - grid_data[\"uIntr\"]\n",
    "\n",
    "grid_data[\"uLSCdiffp\"] = grid_data[\"uLSC\"] - grid_data[\"uLSCp\"]\n",
    "grid_data[\"uIntdiffp\"] = grid_data[\"uInt\"] - grid_data[\"uIntp\"]"
   ]
  },
  {
   "cell_type": "code",
   "execution_count": null,
   "metadata": {},
   "outputs": [],
   "source": [
    "corr = grid_data.select_dtypes(include=[np.number]).corr()\n",
    "plt.figure(figsize=(15, 15))\n",
    "sns.heatmap(corr, annot=True, cmap='coolwarm', linewidths=0.5)\n",
    "plt.title('Correlation Matrix Heatmap')\n",
    "plt.show()"
   ]
  },
  {
   "cell_type": "code",
   "execution_count": null,
   "metadata": {},
   "outputs": [],
   "source": [
    "fig, ax = plt.subplots(2, 4, figsize=(14, 5))\n",
    "ax[0, 0].scatter(grid_data[\"fLSC_nondetrended\"], grid_data[\"num_clicks\"])\n",
    "ax[0, 0].set_xlabel(\"fLSC non-detrended\")\n",
    "ax[1, 0].scatter(grid_data[\"fInt_nondetrended\"], grid_data[\"num_clicks\"])\n",
    "ax[1, 0].set_xlabel(\"fInt non-detrended\")\n",
    "\n",
    "ax[0, 1].scatter(grid_data[\"fLSCp1\"], grid_data[\"num_clicks\"])\n",
    "ax[0, 1].set_xlabel(\"fLSC permutation old\")\n",
    "ax[1, 1].scatter(grid_data[\"fIntp1\"], grid_data[\"num_clicks\"])\n",
    "ax[1, 1].set_xlabel(\"fInt permutation old\")\n",
    "\n",
    "ax[0, 2].scatter(grid_data[\"fLSCp2\"], grid_data[\"num_clicks\"])\n",
    "ax[0, 2].set_xlabel(\"fLSC permutation full\")\n",
    "ax[1, 2].scatter(grid_data[\"fIntp2\"], grid_data[\"num_clicks\"])\n",
    "ax[1, 2].set_xlabel(\"fInt permutation full\")\n",
    "\n",
    "ax[0, 3].scatter(grid_data[\"fLSCr\"], grid_data[\"num_clicks\"])\n",
    "ax[0, 3].set_xlabel(\"fLSC random\")\n",
    "ax[1, 3].scatter(grid_data[\"fIntr\"], grid_data[\"num_clicks\"])\n",
    "ax[1, 3].set_xlabel(\"fInt random\")\n",
    "\n",
    "fig.text(-0.02, 0.5, 'Number of Clicks', va='center', rotation='vertical')  # Y label centered on the left\n",
    "plt.tight_layout()"
   ]
  },
  {
   "cell_type": "code",
   "execution_count": null,
   "metadata": {},
   "outputs": [],
   "source": [
    "# click_data[[\"uLSC_randomised\", \"uInt_randomised\"]] = click_data.apply(\n",
    "#     lambda row: pd.Series(\n",
    "#         simulate_underlying(\n",
    "#             np.array(list(map(int, row[\"current_grid\"]))).reshape(\n",
    "#                 grid_size, grid_size\n",
    "#             )\n",
    "#         )\n",
    "#     ),\n",
    "#     axis=1,\n",
    "# )\n",
    "\n",
    "# click_data[[\"cLSC\", \"cInt\"]] = click_data.apply(\n",
    "#     lambda row: pd.Series(\n",
    "#         simulate_visible(\n",
    "#             np.array(list(map(int, row[\"current_grid\"]))).reshape(\n",
    "#                 grid_size, grid_size\n",
    "#             ),\n",
    "#             row[\"cLSC_nondetrended\"],\n",
    "#             row[\"cInt_nondetrended\"],\n",
    "#         )\n",
    "#     ),\n",
    "#     axis=1,\n",
    "# )"
   ]
  }
 ],
 "metadata": {
  "kernelspec": {
   "display_name": ".env_pattern_explorer",
   "language": "python",
   "name": "python3"
  },
  "language_info": {
   "codemirror_mode": {
    "name": "ipython",
    "version": 3
   },
   "file_extension": ".py",
   "mimetype": "text/x-python",
   "name": "python",
   "nbconvert_exporter": "python",
   "pygments_lexer": "ipython3",
   "version": "3.12.4"
  }
 },
 "nbformat": 4,
 "nbformat_minor": 2
}
