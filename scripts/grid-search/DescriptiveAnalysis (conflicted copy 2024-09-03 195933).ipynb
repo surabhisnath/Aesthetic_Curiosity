{
 "cells": [
  {
   "cell_type": "code",
   "execution_count": 1,
   "metadata": {},
   "outputs": [
    {
     "data": {
      "text/plain": [
       "'\\nAuthor: Surabhi S Nath\\nDescription: This script implements descriptive analysis on the data.\\n'"
      ]
     },
     "execution_count": 1,
     "metadata": {},
     "output_type": "execute_result"
    }
   ],
   "source": [
    "\"\"\"\n",
    "Author: Surabhi S Nath\n",
    "Description: This script implements descriptive analysis on the data.\n",
    "\"\"\""
   ]
  },
  {
   "cell_type": "code",
   "execution_count": 8,
   "metadata": {},
   "outputs": [],
   "source": [
    "import numpy as np\n",
    "import os\n",
    "import pandas as pd\n",
    "import matplotlib.pyplot as plt\n",
    "import seaborn as sns\n",
    "import json\n",
    "import random\n",
    "random.seed(1)\n",
    "import scipy.stats\n",
    "import sys\n",
    "sys.path.insert(1, '../../measures/intricacy/')\n",
    "from calculate_intricacy import *\n",
    "sys.path.insert(1, '../../measures/local spatial complexity/')\n",
    "from calculate_local_spatial_complexity import *\n",
    "import warnings\n",
    "warnings.filterwarnings('ignore')\n",
    "sns.set_theme()\n",
    "sns.set(font_scale=1.5, font=\"serif\")\n",
    "pd.set_option('display.max_colwidth', 10000)"
   ]
  },
  {
   "cell_type": "code",
   "execution_count": 25,
   "metadata": {},
   "outputs": [
    {
     "data": {
      "text/plain": [
       "124"
      ]
     },
     "execution_count": 25,
     "metadata": {},
     "output_type": "execute_result"
    }
   ],
   "source": [
    "max(pd.read_csv(\"utils/grid_data.csv\").groupby(\"Subject\").agg(max)[\"grid_id\"])"
   ]
  },
  {
   "cell_type": "code",
   "execution_count": 23,
   "metadata": {},
   "outputs": [
    {
     "name": "stdout",
     "output_type": "stream",
     "text": [
      "data_2022-04-27-17-02-44__2022-04-27-17-28-42_5y1buu2f.json 263\n",
      "data_2022-04-27-14-17-56__2022-04-27-14-48-32_yrtzmyux.json 44\n",
      "data_2022-03-13-19-21-56__2022-03-13-19-46-02_2atlso7t.json 9\n",
      "data_2022-04-27-13-00-19__2022-04-27-13-27-04_0evomqv4.json 69\n",
      "data_2022-03-13-21-59-11__2022-03-13-22-19-39_22glc2ta.json 54\n",
      "data_2022-03-13-19-15-33__2022-03-13-19-35-36_etf5vey3.json 38\n",
      "data_2022-04-27-13-43-42__2022-04-27-14-10-23_jkzy67vl.json 49\n",
      "data_2022-04-27-16-55-03__2022-04-27-17-45-05_e3200kck.json 22\n",
      "data_2022-03-13-22-09-30__2022-03-13-22-33-58_no9tgghv.json 22\n",
      "data_2022-03-13-19-14-59__2022-03-13-19-37-28_hl7ol539.json 42\n",
      "data_2022-04-27-14-09-50__2022-04-27-14-40-03_g75z7c71.json 42\n",
      "data_2022-03-13-22-17-51__2022-03-13-22-39-25_3yodzxs5.json 47\n",
      "data_2022-04-27-13-59-16__2022-04-27-15-13-58_5t8fxcmb.json 435\n",
      "data_2022-03-13-22-05-45__2022-03-13-22-38-08_hlbo6rrw.json 27\n",
      "data_2022-04-27-13-50-56__2022-04-27-14-17-54_22u8ts67.json 38\n",
      "data_2022-04-27-15-34-12__2022-04-27-16-08-17_8e9sa4yz.json 29\n",
      "data_2022-04-27-16-40-12__2022-04-27-17-12-32_hfw5b4yh.json 21\n",
      "data_2022-03-13-19-08-11__2022-03-13-19-27-37_ewrp65l2.json 64\n",
      "data_2022-04-27-16-44-35__2022-04-27-17-21-50_qr68nfqr.json 20\n",
      "data_2022-03-13-19-00-47__2022-03-13-19-26-41_tg0ywfz0.json 21\n",
      "data_2022-03-13-19-12-01__2022-03-13-19-38-11_kazor73l.json 23\n",
      "data_2022-04-27-11-05-09__2022-04-27-12-12-56_1x63lut3.json 119\n",
      "data_2022-03-13-22-28-43__2022-03-13-22-51-38_1763xh7y.json 125\n",
      "data_2022-04-27-16-53-10__2022-04-27-17-21-10_ngrngpqz.json 61\n",
      "data_2022-04-27-14-08-34__2022-04-27-14-43-41_fnm2xt8h.json 102\n",
      "data_2022-03-13-21-53-16__2022-03-13-22-21-32_n242nt2p.json 82\n",
      "data_2022-03-13-21-25-39__2022-03-13-21-46-54_rg35a7cy.json 28\n",
      "data_2022-03-13-21-03-04__2022-03-13-21-22-30_urgkmyva.json 17\n",
      "data_2022-03-13-19-33-39__2022-03-13-19-59-19_5zutaosy.json 64\n",
      "data_2022-03-13-20-57-54__2022-03-13-21-19-12_9qlt4hu8.json 83\n",
      "data_2022-03-13-18-52-36__2022-03-13-19-15-41_jzptv7f8.json 29\n",
      "data_2022-04-27-11-13-48__2022-04-27-11-40-05_9lp1g6vx.json 91\n",
      "data_2022-04-27-14-01-08__2022-04-27-14-30-07_cvlugcy0.json 38\n",
      "data_2022-03-13-22-03-33__2022-03-13-22-23-58_0epvtb35.json 90\n",
      "data_2022-03-13-22-11-06__2022-03-13-22-37-17_n8ahou0k.json 24\n",
      "data_2022-04-27-15-30-14__2022-04-27-16-00-18_1vpzow16.json 153\n",
      "data_2022-04-27-13-50-12__2022-04-27-14-20-14_gqfw6hk3.json 63\n",
      "data_2022-04-27-16-45-04__2022-04-27-17-20-55_0jvzsq15.json 10\n",
      "data_2022-04-27-14-21-58__2022-04-27-15-07-44_3gdlkahf.json 55\n",
      "data_2022-03-13-19-07-51__2022-03-13-19-29-25_ug8w8cl6.json 67\n"
     ]
    }
   ],
   "source": [
    "for df in os.listdir(\"../../data/grid-search/\"):\n",
    "    if df[0:4] != \"data\":\n",
    "        continue\n",
    "    with open(\"../../data/grid-search/\" + df) as f:\n",
    "        d = json.load(f)\n",
    "        print(df, d[\"trials\"][0][\"num_grids_visited\"])"
   ]
  },
  {
   "cell_type": "code",
   "execution_count": null,
   "metadata": {},
   "outputs": [],
   "source": []
  }
 ],
 "metadata": {
  "kernelspec": {
   "display_name": "base",
   "language": "python",
   "name": "python3"
  },
  "language_info": {
   "codemirror_mode": {
    "name": "ipython",
    "version": 3
   },
   "file_extension": ".py",
   "mimetype": "text/x-python",
   "name": "python",
   "nbconvert_exporter": "python",
   "pygments_lexer": "ipython3",
   "version": "3.12.4"
  }
 },
 "nbformat": 4,
 "nbformat_minor": 2
}
